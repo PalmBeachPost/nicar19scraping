{
 "cells": [
  {
   "cell_type": "code",
   "execution_count": 1,
   "metadata": {},
   "outputs": [],
   "source": [
    "from pyquery import PyQuery as pq\n",
    "import requests\n",
    "\n",
    "import csv\n",
    "from collections import OrderedDict"
   ]
  },
  {
   "cell_type": "code",
   "execution_count": 2,
   "metadata": {},
   "outputs": [],
   "source": [
    "import pickle\n",
    "with open(\"support/fulluncleandata.pickle\", \"rb\") as f:\n",
    "    masterdict = pickle.load(f)"
   ]
  },
  {
   "cell_type": "code",
   "execution_count": 6,
   "metadata": {},
   "outputs": [
    {
     "name": "stdout",
     "output_type": "stream",
     "text": [
      "OrderedDict([('InmateNo', '999393'), ('ExecutionNo', '558'), ('LastName', 'Braziel, Jr.'), ('FirstName', 'Alvin'), ('Age', '43'), ('ExecutionDate', '12/11/2018'), ('Race', 'Black '), ('County', 'Dallas '), ('BioURL', 'http://localhost/www.tdcj.texas.gov/death_row/dr_info/brazielalvin.html'), ('StatementURL', 'http://localhost/www.tdcj.texas.gov/death_row/dr_info/brazielalvinlast.html'), ('Name', 'Braziel, Alvin Avon Jr. '), ('TDCJ Number', '999393 '), ('Date of Birth', '3/16/1975 '), ('Date Received', '8/9/2001'), ('Age (when    Received)', '26 '), ('Education Level (Highest Grade Completed)', '8 '), ('Date of Offense', '9/21/1993'), ('Age (at the time of Offense)', '18 '), ('Gender', 'Male '), ('Hair Color', 'Black '), ('Height', '5 ft 6 in '), ('Weight', '166 '), ('Eye Color', 'Brown '), ('Native County', 'Dallas '), ('Native State', 'Texas '), ('PhotoURL', 'http://localhost/www.tdcj.texas.gov/death_row/dr_info/brazielalvin2.jpg'), ('Prior Occupation', 'Laborer'), ('Prior Prison Record', '#792374  on a 5 year sentence from Dallas   County for 1 count of  sexual assault of a child. (Current offense was committed prior to the offender  being incarcerated for the sexual assault conviction.)'), ('Summary of Incident', 'On  9/21/1993 at 9:00 p.m. in Mesquite,  Braziel approached a newlywed couple walking on a jogging trail of a community  college. Braziel demanded money. When it was discovered that neither of the two  had any money in their possession, Braziel shot the 27 year old white male,  resulting in his death. Braziel then sexually assaulted the 23 year old white  female. Braziel linked to the crime in January 2001 when his DNA was found to  match the DNA taken from the female victim.'), ('Co-Defendants', 'None'), ('Race and Gender of Victim', 'White  male')])\n",
      "============================================================\n",
      "OrderedDict([('InmateNo', '999062'), ('ExecutionNo', '556'), ('LastName', 'Ramos'), ('FirstName', 'Robert'), ('Age', '64'), ('ExecutionDate', '11/14/2018'), ('Race', 'Hispanic'), ('County', 'Hidalgo'), ('BioURL', 'http://localhost/www.tdcj.texas.gov/death_row/dr_info/_ramos.jpg'), ('StatementURL', 'http://localhost/www.tdcj.texas.gov/death_row/dr_info/ramosrobertlast.html'), ('PhotoURL', '')])\n"
     ]
    }
   ],
   "source": [
    "print(masterdict['999393'])\n",
    "print(\"=\" * 60)\n",
    "print(masterdict['999062'])\n"
   ]
  },
  {
   "cell_type": "code",
   "execution_count": null,
   "metadata": {},
   "outputs": [],
   "source": [
    "# How do you save this mess?"
   ]
  }
 ],
 "metadata": {
  "kernelspec": {
   "display_name": "Python 3",
   "language": "python",
   "name": "python3"
  },
  "language_info": {
   "codemirror_mode": {
    "name": "ipython",
    "version": 3
   },
   "file_extension": ".py",
   "mimetype": "text/x-python",
   "name": "python",
   "nbconvert_exporter": "python",
   "pygments_lexer": "ipython3",
   "version": "3.7.1"
  }
 },
 "nbformat": 4,
 "nbformat_minor": 2
}
