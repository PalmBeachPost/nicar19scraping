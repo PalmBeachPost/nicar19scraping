{
 "cells": [
  {
   "cell_type": "code",
   "execution_count": 1,
   "metadata": {},
   "outputs": [],
   "source": [
    "import requests   # external dependency\n",
    "from pyquery import PyQuery as pq   # external dependency\n",
    "\n",
    "import csv\n",
    "from collections import OrderedDict\n"
   ]
  },
  {
   "cell_type": "code",
   "execution_count": 2,
   "metadata": {},
   "outputs": [],
   "source": [
    "hosturl = \"http://localhost/www.tdcj.texas.gov/death_row/dr_executed_offenders.html\"\n",
    "r = requests.get(hosturl)"
   ]
  },
  {
   "cell_type": "code",
   "execution_count": 3,
   "metadata": {},
   "outputs": [],
   "source": [
    "# Now, let's get the actual stuff, and we'll put it in a variable called html.\n",
    "html = r.content"
   ]
  },
  {
   "cell_type": "code",
   "execution_count": 4,
   "metadata": {},
   "outputs": [],
   "source": [
    "masterdict = OrderedDict()"
   ]
  },
  {
   "cell_type": "code",
   "execution_count": 5,
   "metadata": {},
   "outputs": [],
   "source": [
    "table = pq(html)(\"table.tdcj_table\")   # Pick out the table with the good stuff"
   ]
  },
  {
   "cell_type": "code",
   "execution_count": 6,
   "metadata": {},
   "outputs": [
    {
     "name": "stdout",
     "output_type": "stream",
     "text": [
      "Lines scraped: 558\n"
     ]
    }
   ],
   "source": [
    "biopagebase = \"http://localhost/www.tdcj.texas.gov/death_row/\"\n",
    "for row in pq(table)(\"tr\")[1:]:   # Skip that header row, get everything else\n",
    "    line = OrderedDict()\n",
    "    line['InmateNo'] = pq(row)(\"td\")[5].text\n",
    "    line['ExecutionNo'] = pq(row)(\"td\")[0].text\n",
    "    line['LastName'] = pq(row)(\"td\")[3].text\n",
    "    line['FirstName'] = pq(row)(\"td\")[4].text\n",
    "    line['Age'] = pq(row)(\"td\")[6].text\n",
    "    line['ExecutionDate'] = pq(row)(\"td\")[7].text\n",
    "    line['Race'] = pq(row)(\"td\")[8].text\n",
    "    line['County'] = pq(row)(\"td\")[9].text\n",
    "    line['BioURL'] = biopagebase + pq(pq(row)(\"td\")[1])(\"a\").attr(\"href\")\n",
    "    line['StatementURL'] = biopagebase + pq(pq(row)(\"td\")[2])(\"a\").attr(\"href\")\n",
    "    masterdict[line['InmateNo']] = line\n",
    "\n",
    "# Wait, did that just work?\n",
    "print(f\"Lines scraped: {len(masterdict)}\")"
   ]
  },
  {
   "cell_type": "code",
   "execution_count": 7,
   "metadata": {},
   "outputs": [],
   "source": [
    "for InmateNo in masterdict:\n",
    "    line = masterdict[InmateNo]  # Get that whole person-level dictionary\n",
    "    bioURL = line['BioURL']\n",
    "    if \"html\" in bioURL and \"no_info_available\" not in bioURL:  # !!!!!!!!!!!!!!!!!!!!!!! This broke too\n",
    "        r = requests.get(bioURL)   # Get their biography page\n",
    "        html = r.content\n",
    "        table = pq(html)(\"table.table_deathrow\")\n",
    "        for row in pq(table)(\"tr\"):\n",
    "            description = pq(row)(\"td\")[-2].text\n",
    "            data = pq(row)(\"td\")[-1].text\n",
    "            line[description] = data\n",
    "        # Now let's write the line back to masterdict to save our changes\n",
    "        try:\n",
    "            photocellURL = pq(pq(pq(html)(\"table.table_deathrow\"))(\"td\")[0])(\"img\").attr(\"src\")\n",
    "            if photocellURL:   # If we've found that img src tag ...\n",
    "                photocellURL = photobase + photocellURL\n",
    "            else:\n",
    "                photocellURL = \"\"\n",
    "        except:\n",
    "            photocellURL = \"\"\n",
    "        line['PhotoURL'] = photocellURL\n",
    "        for graf in pq(html)(\"p\"):\n",
    "            spanhere = pq(graf)(\"span\")\n",
    "            if spanhere:   # If this is a complete description + initial tag:\n",
    "                try:   # Yes, something else broke !!!!!!!!!!!!!!!!!!!!!!!!!!!!!!!!!!!!!!!!!!!!!!!!!\n",
    "                    data = graf.text_content().split(\"\\n\")[1].strip()\n",
    "                    description = pq(graf)(\"span\")[0].text.strip()\n",
    "                except:\n",
    "                    pass\n",
    "            else:\n",
    "                line[description] += \" ***INCOMPLETE**** \"\n",
    "            line[description] = data\n",
    "        masterdict[InmateNo] = line    "
   ]
  },
  {
   "cell_type": "code",
   "execution_count": 8,
   "metadata": {},
   "outputs": [
    {
     "name": "stdout",
     "output_type": "stream",
     "text": [
      "['InmateNo', 'ExecutionNo', 'LastName', 'FirstName', 'Age', 'ExecutionDate', 'Race', 'County', 'BioURL', 'StatementURL', 'Name', 'TDCJ Number', 'Date of Birth', 'Date Received', 'Age (when    Received)', 'Education Level (Highest Grade Completed)', 'Date of Offense', 'Age (at the time of Offense)', 'Gender', 'Hair Color', 'Height', 'Weight', 'Eye Color', 'Native County', 'Native State', 'PhotoURL', 'Prior Occupation', 'Prior Prison Record', 'Summary of Incident', 'Co-Defendants', 'Race and Gender of Victim', 'Age (when Received)', 'Summary of incident', 'Native Country']\n"
     ]
    }
   ],
   "source": [
    "# First, get a list of our keys, like our column headers.\n",
    "headers = []\n",
    "for InmateNo in masterdict:\n",
    "    row = masterdict[InmateNo]\n",
    "    for key in row.keys():\n",
    "        if key not in headers:\n",
    "            headers.append(key)\n",
    "print(headers)"
   ]
  },
  {
   "cell_type": "code",
   "execution_count": 9,
   "metadata": {},
   "outputs": [],
   "source": [
    "# That looks reasonable. Now, let's cycle through again and standardize:\n",
    "for InmateNo in masterdict:\n",
    "    row = masterdict[InmateNo]\n",
    "    line = OrderedDict()\n",
    "    for key in headers:\n",
    "        if key in row:\n",
    "            line[key] = row[key]\n",
    "        else:\n",
    "            line[key] = \"\"   # Give it a blank entry\n",
    "    \n",
    "    # Our data is now standardized but has not been saved.\n",
    "    masterdict[InmateNo] = line   # Copy over the new data."
   ]
  },
  {
   "cell_type": "code",
   "execution_count": 10,
   "metadata": {},
   "outputs": [],
   "source": [
    "with open('report.csv', 'w', newline='') as f:\n",
    "    writer = csv.DictWriter(f, fieldnames=headers)\n",
    "    writer.writeheader()\n",
    "    for InmateNo in masterdict:\n",
    "        line = masterdict[InmateNo]\n",
    "        writer.writerow(line)"
   ]
  }
 ],
 "metadata": {
  "kernelspec": {
   "display_name": "Python 3",
   "language": "python",
   "name": "python3"
  },
  "language_info": {
   "codemirror_mode": {
    "name": "ipython",
    "version": 3
   },
   "file_extension": ".py",
   "mimetype": "text/x-python",
   "name": "python",
   "nbconvert_exporter": "python",
   "pygments_lexer": "ipython3",
   "version": "3.7.1"
  }
 },
 "nbformat": 4,
 "nbformat_minor": 2
}
